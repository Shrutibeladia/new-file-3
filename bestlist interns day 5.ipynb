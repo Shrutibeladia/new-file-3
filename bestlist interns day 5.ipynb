{
 "cells": [
  {
   "cell_type": "markdown",
   "metadata": {},
   "source": [
    "# Task-5"
   ]
  },
  {
   "cell_type": "code",
   "execution_count": 4,
   "metadata": {},
   "outputs": [
    {
     "name": "stdout",
     "output_type": "stream",
     "text": [
      "enter a number45\n",
      "enter a number34\n",
      "the sum of 45 and 34 is 79.0\n"
     ]
    }
   ],
   "source": [
    "num1=input('enter a number')\n",
    "num2=input('enter a number')\n",
    "sum=float(num1)+float(num2)\n",
    "print('the sum of {} and {} is {}'.format(num1,num2,sum))\n"
   ]
  },
  {
   "cell_type": "code",
   "execution_count": 6,
   "metadata": {},
   "outputs": [
    {
     "name": "stdout",
     "output_type": "stream",
     "text": [
      "enter a number98\n",
      "enter a number65\n",
      "the sum of 98 and 65 is 33.0\n"
     ]
    }
   ],
   "source": [
    "num1=input('enter a number')\n",
    "num2=input('enter a number')\n",
    "sum=float(num1)-float(num2)\n",
    "print('the sum of {} and {} is {}'.format(num1,num2,sum))\n"
   ]
  },
  {
   "cell_type": "code",
   "execution_count": 7,
   "metadata": {},
   "outputs": [
    {
     "name": "stdout",
     "output_type": "stream",
     "text": [
      "enter a number76\n",
      "enter a number2\n",
      "the sum of 76 and 2 is 38.0\n"
     ]
    }
   ],
   "source": [
    "num1=input('enter a number')\n",
    "num2=input('enter a number')\n",
    "sum=float(num1)//float(num2)\n",
    "print('the sum of {} and {} is {}'.format(num1,num2,sum))"
   ]
  },
  {
   "cell_type": "code",
   "execution_count": 8,
   "metadata": {},
   "outputs": [
    {
     "name": "stdout",
     "output_type": "stream",
     "text": [
      "enter a number45\n",
      "enter a number72\n",
      "the sum of 45 and 72 is 3240.0\n"
     ]
    }
   ],
   "source": [
    "num1=input('enter a number')\n",
    "num2=input('enter a number')\n",
    "sum=float(num1)*float(num2)\n",
    "print('the sum of {} and {} is {}'.format(num1,num2,sum))"
   ]
  },
  {
   "cell_type": "code",
   "execution_count": 9,
   "metadata": {},
   "outputs": [
    {
     "name": "stdout",
     "output_type": "stream",
     "text": [
      "enter patient name selina madam\n",
      "patient body temperature is 96 degree\n"
     ]
    }
   ],
   "source": [
    "def covid(patientname,body_temp=96):\n",
    "    print('enter patient name',patientname)\n",
    "    print('patient body temperature is',body_temp,'degree')\n",
    "covid('selina madam')    "
   ]
  },
  {
   "cell_type": "code",
   "execution_count": null,
   "metadata": {},
   "outputs": [],
   "source": []
  }
 ],
 "metadata": {
  "kernelspec": {
   "display_name": "Python 3",
   "language": "python",
   "name": "python3"
  },
  "language_info": {
   "codemirror_mode": {
    "name": "ipython",
    "version": 3
   },
   "file_extension": ".py",
   "mimetype": "text/x-python",
   "name": "python",
   "nbconvert_exporter": "python",
   "pygments_lexer": "ipython3",
   "version": "3.8.5"
  }
 },
 "nbformat": 4,
 "nbformat_minor": 4
}
